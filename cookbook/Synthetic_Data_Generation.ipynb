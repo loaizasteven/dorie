{
 "cells": [
  {
   "cell_type": "markdown",
   "metadata": {},
   "source": [
    "# Fine Tune RoBERTa model with DORIE\n",
    "Placeholder notebook to finetune an intent model for P&C insurnace company, to be used for customer facing chatbots to route customer utterance (text and speech) to pre-defined workflows or agentic workflows."
   ]
  },
  {
   "cell_type": "code",
   "execution_count": 14,
   "metadata": {},
   "outputs": [],
   "source": [
    "from experimental.synthetic_data.base import SyntheticDataGenerator"
   ]
  },
  {
   "cell_type": "code",
   "execution_count": 15,
   "metadata": {},
   "outputs": [
    {
     "name": "stdout",
     "output_type": "stream",
     "text": [
      "Success: Synthetic data completed and dumped to -> ./syntheticinsurancedata.csv\n"
     ]
    }
   ],
   "source": [
    "# Generate Call\n",
    "synthdata = SyntheticDataGenerator()\n",
    "synthdata.invoke()\n",
    "\n",
    "# Dump Content\n",
    "status = synthdata.save(outputfile = './syntheticinsurancedata.csv')\n",
    "print(status)\n",
    "\n",
    "# close client\n",
    "synthdata.close()"
   ]
  },
  {
   "cell_type": "markdown",
   "metadata": {},
   "source": []
  }
 ],
 "metadata": {
  "kernelspec": {
   "display_name": "dorie-h0o5WiK4-py3.13",
   "language": "python",
   "name": "python3"
  },
  "language_info": {
   "codemirror_mode": {
    "name": "ipython",
    "version": 3
   },
   "file_extension": ".py",
   "mimetype": "text/x-python",
   "name": "python",
   "nbconvert_exporter": "python",
   "pygments_lexer": "ipython3",
   "version": "3.13.0"
  }
 },
 "nbformat": 4,
 "nbformat_minor": 2
}
