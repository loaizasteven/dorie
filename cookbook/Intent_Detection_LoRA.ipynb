{
 "cells": [
  {
   "cell_type": "markdown",
   "metadata": {},
   "source": [
    "# Intent Detection LoRA\n",
    "\n",
    "Sample notebook utilizing the `DORIE` package to fine tune an insurance intent detection, classification, model. This serves as an example demonstrating how to utilize the library for downstream classification tasks. This sequence classification task focus on classifying customer utterances into a multi-class intent to help the contact center route the phone call/ chat through a pre-defined or dynamic route to satify the customers needs."
   ]
  },
  {
   "cell_type": "code",
   "execution_count": 1,
   "metadata": {},
   "outputs": [
    {
     "name": "stderr",
     "output_type": "stream",
     "text": [
      "/Library/Frameworks/Python.framework/Versions/3.10/lib/python3.10/site-packages/tqdm/auto.py:21: TqdmWarning: IProgress not found. Please update jupyter and ipywidgets. See https://ipywidgets.readthedocs.io/en/stable/user_install.html\n",
      "  from .autonotebook import tqdm as notebook_tqdm\n"
     ]
    }
   ],
   "source": [
    "from pathlib import Path\n",
    "import sys\n",
    "\n",
    "sys.path.insert(0, str(Path().resolve().parent))\n",
    "\n",
    "from libs.dorie.intent.finetune import Intent\n",
    "from libs.dorie.loader.adaptation import return_peft_model\n",
    "from libs.dorie.loader.datatokenizer import MyDataset\n",
    "\n",
    "from peft import TaskType"
   ]
  },
  {
   "cell_type": "markdown",
   "metadata": {},
   "source": [
    "## Load the dataset\n",
    "See [Synthetic data notebook](./Synthetic_Data_Generation.ipynb) for more information on generating data utilizing OpenAI API. The dataset will be loaded from HuggingFace Data Hub. You can also navigate to HuggingFace to see the [synthetic_insurance_data](https://huggingface.co/datasets/stevenloaiza/synthetic_insurance_data)."
   ]
  },
  {
   "cell_type": "code",
   "execution_count": 2,
   "metadata": {},
   "outputs": [
    {
     "name": "stderr",
     "output_type": "stream",
     "text": [
      "Generating train split: 100%|██████████| 785/785 [00:00<00:00, 352330.51 examples/s]\n",
      "Generating test split: 100%|██████████| 435/435 [00:00<00:00, 366443.51 examples/s]\n",
      "Map: 100%|██████████| 785/785 [00:00<00:00, 4652.01 examples/s]\n",
      "Map: 100%|██████████| 435/435 [00:00<00:00, 3226.38 examples/s]\n"
     ]
    },
    {
     "data": {
      "text/plain": [
       "DatasetDict({\n",
       "    train: Dataset({\n",
       "        features: ['label', 'text', 'input_ids', 'attention_mask'],\n",
       "        num_rows: 785\n",
       "    })\n",
       "    test: Dataset({\n",
       "        features: ['label', 'text', 'input_ids', 'attention_mask'],\n",
       "        num_rows: 435\n",
       "    })\n",
       "})"
      ]
     },
     "execution_count": 2,
     "metadata": {},
     "output_type": "execute_result"
    }
   ],
   "source": [
    "# Set Data configuration, the intent class will load the data from the path specified here\n",
    "datapath= \"stevenloaiza/synthetic_insurance_data\"\n",
    "dataclass = MyDataset(path=datapath)\n",
    "\n",
    "# The data parameter will not be used explicitly, since it will be loader in the finetuning modules implicitly. \n",
    "# Loading it here is just to show the data that will be used for the finetuning process\n",
    "mydata = dataclass.loader()\n",
    "mydata"
   ]
  },
  {
   "cell_type": "markdown",
   "metadata": {},
   "source": [
    "## Load PEFT LoRA model\n",
    "\n",
    " * This section of the code is responsible for loading a PEFT (Parameter-Efficient Fine-Tuning) LoRA (Low-Rank Adaptation) model.\n",
    " * PEFT LoRA models are used to fine-tune large language models efficiently by adapting a small number of parameters.\n",
    " * This approach is particularly useful for tasks like intent detection, where the model needs to be adapted to understand specific intents from user inputs.\n",
    " * The model loading process typically involves specifying the model architecture, loading pre-trained weights, and preparing the model for inference or further training."
   ]
  },
  {
   "cell_type": "code",
   "execution_count": 3,
   "metadata": {},
   "outputs": [
    {
     "name": "stderr",
     "output_type": "stream",
     "text": [
      "Some weights of RobertaForSequenceClassification were not initialized from the model checkpoint at roberta-base and are newly initialized: ['classifier.dense.bias', 'classifier.dense.weight', 'classifier.out_proj.bias', 'classifier.out_proj.weight']\n",
      "You should probably TRAIN this model on a down-stream task to be able to use it for predictions and inference.\n"
     ]
    },
    {
     "name": "stdout",
     "output_type": "stream",
     "text": [
      "trainable params: 887,042 || all params: 125,534,212 || trainable%: 0.7066\n"
     ]
    }
   ],
   "source": [
    "BASE_MODEL = \"roberta-base\"\n",
    "LORA_CONFIG = {\n",
    "    \"task_type\": TaskType.SEQ_CLS, \n",
    "    \"inference_mode\": False, \n",
    "    \"r\": 8, \n",
    "    \"lora_alpha\": 32, \n",
    "    \"lora_dropout\": 0.1\n",
    "}\n",
    "lora_model = return_peft_model(\n",
    "    model_name_or_path = f\"{BASE_MODEL}\", \n",
    "    lora_config=LORA_CONFIG,\n",
    "    verbose=True\n",
    ")"
   ]
  },
  {
   "cell_type": "markdown",
   "metadata": {},
   "source": [
    "## Set Up Intent Detection Class\n",
    "\n",
    "In this section, we will set up the intent detection class using the `Intent` class from the `DORIE` package. We will configure the class with the dataset and the PEFT LoRA model that we have loaded in the previous steps. This setup will allow us to fine-tune the model for the intent detection task.\n"
   ]
  },
  {
   "cell_type": "code",
   "execution_count": 5,
   "metadata": {},
   "outputs": [],
   "source": [
    "TRAINING_CONFIG = {   \n",
    "    \"baseModel\": f\"{BASE_MODEL}\",\n",
    "    \"device\": \"cpu\",\n",
    "    \"modelArgs\": {\n",
    "        \"output_dir\": \"./results\",\n",
    "        \"num_train_epochs\": 1,\n",
    "        \"per_device_train_batch_size\": 32,\n",
    "        \"per_device_eval_batch_size\": 32,\n",
    "        \"eval_strategy\": \"epoch\",\n",
    "        \"save_strategy\": \"epoch\",\n",
    "        \"learning_rate\": 5e-5,\n",
    "        \"save_total_limit\": 2,\n",
    "        \"load_best_model_at_end\": \"true\",\n",
    "        \"metric_for_best_model\": \"accuracy\",\n",
    "        \"greater_is_better\": \"true\",\n",
    "        \"save_on_each_node\": \"true\"\n",
    "    },\n",
    "    \"model\": lora_model\n",
    "}\n",
    "\n",
    "intent_classifier = Intent(\n",
    "    datapath = datapath,\n",
    "    config = TRAINING_CONFIG,\n",
    "    dataclass = dataclass,\n",
    "    # Local model trainer\n",
    "    trainer = None,\n",
    "    inference_text = \"\"\"I was in a car accident this morning on Clifford ave. This other person rearended me and \n",
    "    I need to file a claim but I don't know how to start the process.\"\"\"\n",
    ")"
   ]
  },
  {
   "cell_type": "markdown",
   "metadata": {},
   "source": [
    "## Train\n",
    "The `train` method of the `intent_classifier` object is called to start the training process. This method will fine-tune the model using the provided dataset and configuration settings."
   ]
  },
  {
   "cell_type": "code",
   "execution_count": 6,
   "metadata": {},
   "outputs": [
    {
     "name": "stderr",
     "output_type": "stream",
     "text": [
      "Map: 100%|██████████| 785/785 [00:00<00:00, 3790.44 examples/s]\n",
      "Map: 100%|██████████| 435/435 [00:00<00:00, 3161.98 examples/s]\n",
      "Some weights of RobertaForSequenceClassification were not initialized from the model checkpoint at roberta-base and are newly initialized: ['classifier.dense.bias', 'classifier.dense.weight', 'classifier.out_proj.bias', 'classifier.out_proj.weight']\n",
      "You should probably TRAIN this model on a down-stream task to be able to use it for predictions and inference.\n",
      "                                                  \n",
      "  2%|▏         | 50/2500 [00:55<39:16,  1.04it/s]"
     ]
    },
    {
     "name": "stdout",
     "output_type": "stream",
     "text": [
      "{'eval_loss': 0.3879985809326172, 'eval_accuracy': 0.8390804597701149, 'eval_runtime': 6.9956, 'eval_samples_per_second': 62.182, 'eval_steps_per_second': 1.001, 'epoch': 1.0}\n"
     ]
    },
    {
     "name": "stderr",
     "output_type": "stream",
     "text": [
      "                                                   \n",
      "  4%|▍         | 100/2500 [02:04<37:52,  1.06it/s]"
     ]
    },
    {
     "name": "stdout",
     "output_type": "stream",
     "text": [
      "{'eval_loss': 0.5785103440284729, 'eval_accuracy': 0.8229885057471265, 'eval_runtime': 6.7631, 'eval_samples_per_second': 64.32, 'eval_steps_per_second': 1.035, 'epoch': 2.0}\n"
     ]
    },
    {
     "name": "stderr",
     "output_type": "stream",
     "text": [
      "                                                    \n",
      "  6%|▌         | 150/2500 [03:08<36:57,  1.06it/s]"
     ]
    },
    {
     "name": "stdout",
     "output_type": "stream",
     "text": [
      "{'eval_loss': 0.43604663014411926, 'eval_accuracy': 0.8160919540229885, 'eval_runtime': 6.7612, 'eval_samples_per_second': 64.337, 'eval_steps_per_second': 1.035, 'epoch': 3.0}\n"
     ]
    },
    {
     "name": "stderr",
     "output_type": "stream",
     "text": [
      "                                                    \n",
      "  8%|▊         | 200/2500 [04:15<38:59,  1.02s/it]"
     ]
    },
    {
     "name": "stdout",
     "output_type": "stream",
     "text": [
      "{'eval_loss': 0.7680219411849976, 'eval_accuracy': 0.8183908045977012, 'eval_runtime': 6.7698, 'eval_samples_per_second': 64.256, 'eval_steps_per_second': 1.034, 'epoch': 4.0}\n"
     ]
    },
    {
     "name": "stderr",
     "output_type": "stream",
     "text": [
      "                                                    \n",
      " 10%|█         | 250/2500 [05:17<31:36,  1.19it/s]"
     ]
    },
    {
     "name": "stdout",
     "output_type": "stream",
     "text": [
      "{'eval_loss': 0.7938755750656128, 'eval_accuracy': 0.8022988505747126, 'eval_runtime': 6.6673, 'eval_samples_per_second': 65.244, 'eval_steps_per_second': 1.05, 'epoch': 5.0}\n"
     ]
    },
    {
     "name": "stderr",
     "output_type": "stream",
     "text": [
      "                                                    \n",
      " 12%|█▏        | 300/2500 [06:22<38:26,  1.05s/it]"
     ]
    },
    {
     "name": "stdout",
     "output_type": "stream",
     "text": [
      "{'eval_loss': 0.9863830804824829, 'eval_accuracy': 0.7954022988505747, 'eval_runtime': 7.8024, 'eval_samples_per_second': 55.752, 'eval_steps_per_second': 0.897, 'epoch': 6.0}\n"
     ]
    },
    {
     "name": "stderr",
     "output_type": "stream",
     "text": [
      "                                                      \n",
      " 14%|█▍        | 350/2500 [14:42<24:57,  1.44it/s]"
     ]
    },
    {
     "name": "stdout",
     "output_type": "stream",
     "text": [
      "{'eval_loss': 0.8411538600921631, 'eval_accuracy': 0.8298850574712644, 'eval_runtime': 6.6033, 'eval_samples_per_second': 65.876, 'eval_steps_per_second': 1.06, 'epoch': 7.0}\n"
     ]
    },
    {
     "name": "stderr",
     "output_type": "stream",
     "text": [
      "                                                    \n",
      " 16%|█▌        | 400/2500 [15:39<25:51,  1.35it/s]"
     ]
    },
    {
     "name": "stdout",
     "output_type": "stream",
     "text": [
      "{'eval_loss': 1.028182864189148, 'eval_accuracy': 0.832183908045977, 'eval_runtime': 6.5818, 'eval_samples_per_second': 66.091, 'eval_steps_per_second': 1.064, 'epoch': 8.0}\n"
     ]
    },
    {
     "name": "stderr",
     "output_type": "stream",
     "text": [
      "                                                    \n",
      " 18%|█▊        | 450/2500 [16:34<24:14,  1.41it/s]"
     ]
    },
    {
     "name": "stdout",
     "output_type": "stream",
     "text": [
      "{'eval_loss': 0.9716265201568604, 'eval_accuracy': 0.8183908045977012, 'eval_runtime': 6.6316, 'eval_samples_per_second': 65.595, 'eval_steps_per_second': 1.056, 'epoch': 9.0}\n"
     ]
    },
    {
     "name": "stderr",
     "output_type": "stream",
     "text": [
      " 20%|██        | 500/2500 [17:26<23:47,  1.40it/s]  "
     ]
    },
    {
     "name": "stdout",
     "output_type": "stream",
     "text": [
      "{'loss': 0.2585, 'grad_norm': 0.008278434164822102, 'learning_rate': 4e-05, 'epoch': 10.0}\n"
     ]
    },
    {
     "name": "stderr",
     "output_type": "stream",
     "text": [
      "                                                  \n",
      " 20%|██        | 500/2500 [17:32<23:47,  1.40it/s]"
     ]
    },
    {
     "name": "stdout",
     "output_type": "stream",
     "text": [
      "{'eval_loss': 1.2954466342926025, 'eval_accuracy': 0.7839080459770115, 'eval_runtime': 6.8994, 'eval_samples_per_second': 63.049, 'eval_steps_per_second': 1.015, 'epoch': 10.0}\n"
     ]
    },
    {
     "name": "stderr",
     "output_type": "stream",
     "text": [
      "                                                    \n",
      " 22%|██▏       | 550/2500 [18:32<25:42,  1.26it/s]"
     ]
    },
    {
     "name": "stdout",
     "output_type": "stream",
     "text": [
      "{'eval_loss': 1.2299573421478271, 'eval_accuracy': 0.8206896551724138, 'eval_runtime': 8.0783, 'eval_samples_per_second': 53.848, 'eval_steps_per_second': 0.867, 'epoch': 11.0}\n"
     ]
    },
    {
     "name": "stderr",
     "output_type": "stream",
     "text": [
      "                                                     \n",
      " 24%|██▍       | 600/2500 [23:07<6:01:42, 11.42s/it]"
     ]
    },
    {
     "name": "stdout",
     "output_type": "stream",
     "text": [
      "{'eval_loss': 1.3547550439834595, 'eval_accuracy': 0.8114942528735632, 'eval_runtime': 6.7028, 'eval_samples_per_second': 64.898, 'eval_steps_per_second': 1.044, 'epoch': 12.0}\n"
     ]
    },
    {
     "name": "stderr",
     "output_type": "stream",
     "text": [
      "                                                    \n",
      " 26%|██▌       | 650/2500 [25:05<24:24,  1.26it/s]"
     ]
    },
    {
     "name": "stdout",
     "output_type": "stream",
     "text": [
      "{'eval_loss': 1.3091373443603516, 'eval_accuracy': 0.8206896551724138, 'eval_runtime': 6.7301, 'eval_samples_per_second': 64.635, 'eval_steps_per_second': 1.04, 'epoch': 13.0}\n"
     ]
    },
    {
     "name": "stderr",
     "output_type": "stream",
     "text": [
      "                                                    \n",
      " 28%|██▊       | 700/2500 [26:05<24:08,  1.24it/s]"
     ]
    },
    {
     "name": "stdout",
     "output_type": "stream",
     "text": [
      "{'eval_loss': 1.3516708612442017, 'eval_accuracy': 0.8275862068965517, 'eval_runtime': 6.7302, 'eval_samples_per_second': 64.634, 'eval_steps_per_second': 1.04, 'epoch': 14.0}\n"
     ]
    },
    {
     "name": "stderr",
     "output_type": "stream",
     "text": [
      "                                                    \n",
      " 30%|███       | 750/2500 [27:05<23:09,  1.26it/s]"
     ]
    },
    {
     "name": "stdout",
     "output_type": "stream",
     "text": [
      "{'eval_loss': 1.4455846548080444, 'eval_accuracy': 0.8206896551724138, 'eval_runtime': 6.8654, 'eval_samples_per_second': 63.361, 'eval_steps_per_second': 1.02, 'epoch': 15.0}\n"
     ]
    },
    {
     "name": "stderr",
     "output_type": "stream",
     "text": [
      "                                                    \n",
      " 32%|███▏      | 800/2500 [28:08<23:58,  1.18it/s]"
     ]
    },
    {
     "name": "stdout",
     "output_type": "stream",
     "text": [
      "{'eval_loss': 1.4440782070159912, 'eval_accuracy': 0.8183908045977012, 'eval_runtime': 8.084, 'eval_samples_per_second': 53.81, 'eval_steps_per_second': 0.866, 'epoch': 16.0}\n"
     ]
    },
    {
     "name": "stderr",
     "output_type": "stream",
     "text": [
      "                                                    \n",
      " 34%|███▍      | 850/2500 [29:23<28:59,  1.05s/it]"
     ]
    },
    {
     "name": "stdout",
     "output_type": "stream",
     "text": [
      "{'eval_loss': 1.463672161102295, 'eval_accuracy': 0.8183908045977012, 'eval_runtime': 8.1661, 'eval_samples_per_second': 53.269, 'eval_steps_per_second': 0.857, 'epoch': 17.0}\n"
     ]
    },
    {
     "name": "stderr",
     "output_type": "stream",
     "text": [
      "                                                     \n",
      " 36%|███▌      | 900/2500 [36:57<41:45,  1.57s/it]"
     ]
    },
    {
     "name": "stdout",
     "output_type": "stream",
     "text": [
      "{'eval_loss': 1.4826871156692505, 'eval_accuracy': 0.8206896551724138, 'eval_runtime': 7.3203, 'eval_samples_per_second': 59.424, 'eval_steps_per_second': 0.956, 'epoch': 18.0}\n"
     ]
    },
    {
     "name": "stderr",
     "output_type": "stream",
     "text": [
      "                                                    \n",
      " 38%|███▊      | 950/2500 [38:00<22:19,  1.16it/s]"
     ]
    },
    {
     "name": "stdout",
     "output_type": "stream",
     "text": [
      "{'eval_loss': 1.4881043434143066, 'eval_accuracy': 0.8206896551724138, 'eval_runtime': 6.6874, 'eval_samples_per_second': 65.047, 'eval_steps_per_second': 1.047, 'epoch': 19.0}\n"
     ]
    },
    {
     "name": "stderr",
     "output_type": "stream",
     "text": [
      " 40%|████      | 1000/2500 [38:54<19:05,  1.31it/s] "
     ]
    },
    {
     "name": "stdout",
     "output_type": "stream",
     "text": [
      "{'loss': 0.0062, 'grad_norm': 0.002141753677278757, 'learning_rate': 3e-05, 'epoch': 20.0}\n"
     ]
    },
    {
     "name": "stderr",
     "output_type": "stream",
     "text": [
      "                                                   \n",
      " 40%|████      | 1000/2500 [39:00<19:05,  1.31it/s]"
     ]
    },
    {
     "name": "stdout",
     "output_type": "stream",
     "text": [
      "{'eval_loss': 1.5823719501495361, 'eval_accuracy': 0.8068965517241379, 'eval_runtime': 6.7679, 'eval_samples_per_second': 64.274, 'eval_steps_per_second': 1.034, 'epoch': 20.0}\n"
     ]
    },
    {
     "name": "stderr",
     "output_type": "stream",
     "text": [
      "                                                     \n",
      " 42%|████▏     | 1050/2500 [40:04<19:26,  1.24it/s]"
     ]
    },
    {
     "name": "stdout",
     "output_type": "stream",
     "text": [
      "{'eval_loss': 1.4529445171356201, 'eval_accuracy': 0.8275862068965517, 'eval_runtime': 6.8661, 'eval_samples_per_second': 63.355, 'eval_steps_per_second': 1.02, 'epoch': 21.0}\n"
     ]
    },
    {
     "name": "stderr",
     "output_type": "stream",
     "text": [
      "                                                     \n",
      " 44%|████▍     | 1100/2500 [41:12<24:00,  1.03s/it]"
     ]
    },
    {
     "name": "stdout",
     "output_type": "stream",
     "text": [
      "{'eval_loss': 1.4617990255355835, 'eval_accuracy': 0.8275862068965517, 'eval_runtime': 9.5308, 'eval_samples_per_second': 45.642, 'eval_steps_per_second': 0.734, 'epoch': 22.0}\n"
     ]
    },
    {
     "name": "stderr",
     "output_type": "stream",
     "text": [
      "                                                       \n",
      " 46%|████▌     | 1150/2500 [55:58<91:40:17, 244.46s/it]"
     ]
    },
    {
     "name": "stdout",
     "output_type": "stream",
     "text": [
      "{'eval_loss': 1.4752402305603027, 'eval_accuracy': 0.832183908045977, 'eval_runtime': 8.8942, 'eval_samples_per_second': 48.908, 'eval_steps_per_second': 0.787, 'epoch': 23.0}\n"
     ]
    },
    {
     "name": "stderr",
     "output_type": "stream",
     "text": [
      "                                                       \n",
      " 48%|████▊     | 1200/2500 [57:07<18:55,  1.15it/s]"
     ]
    },
    {
     "name": "stdout",
     "output_type": "stream",
     "text": [
      "{'eval_loss': 1.492091417312622, 'eval_accuracy': 0.8275862068965517, 'eval_runtime': 6.7804, 'eval_samples_per_second': 64.156, 'eval_steps_per_second': 1.032, 'epoch': 24.0}\n"
     ]
    },
    {
     "name": "stderr",
     "output_type": "stream",
     "text": [
      "                                                     \n",
      " 50%|█████     | 1250/2500 [58:08<17:22,  1.20it/s]"
     ]
    },
    {
     "name": "stdout",
     "output_type": "stream",
     "text": [
      "{'eval_loss': 1.469909429550171, 'eval_accuracy': 0.8344827586206897, 'eval_runtime': 6.7587, 'eval_samples_per_second': 64.362, 'eval_steps_per_second': 1.036, 'epoch': 25.0}\n"
     ]
    },
    {
     "name": "stderr",
     "output_type": "stream",
     "text": [
      "                                                     \n",
      " 52%|█████▏    | 1300/2500 [59:10<15:19,  1.30it/s]"
     ]
    },
    {
     "name": "stdout",
     "output_type": "stream",
     "text": [
      "{'eval_loss': 1.503830075263977, 'eval_accuracy': 0.8275862068965517, 'eval_runtime': 6.6935, 'eval_samples_per_second': 64.988, 'eval_steps_per_second': 1.046, 'epoch': 26.0}\n"
     ]
    },
    {
     "name": "stderr",
     "output_type": "stream",
     "text": [
      "                                                     \n",
      " 54%|█████▍    | 1350/2500 [1:00:10<15:11,  1.26it/s]"
     ]
    },
    {
     "name": "stdout",
     "output_type": "stream",
     "text": [
      "{'eval_loss': 1.652839183807373, 'eval_accuracy': 0.8137931034482758, 'eval_runtime': 6.8217, 'eval_samples_per_second': 63.768, 'eval_steps_per_second': 1.026, 'epoch': 27.0}\n"
     ]
    },
    {
     "name": "stderr",
     "output_type": "stream",
     "text": [
      "                                                       \n",
      " 56%|█████▌    | 1400/2500 [1:13:20<16:28,  1.11it/s]"
     ]
    },
    {
     "name": "stdout",
     "output_type": "stream",
     "text": [
      "{'eval_loss': 1.6594325304031372, 'eval_accuracy': 0.8160919540229885, 'eval_runtime': 732.5785, 'eval_samples_per_second': 0.594, 'eval_steps_per_second': 0.01, 'epoch': 28.0}\n"
     ]
    },
    {
     "name": "stderr",
     "output_type": "stream",
     "text": [
      "                                                         \n",
      " 58%|█████▊    | 1450/2500 [1:14:30<13:14,  1.32it/s]"
     ]
    },
    {
     "name": "stdout",
     "output_type": "stream",
     "text": [
      "{'eval_loss': 1.6331374645233154, 'eval_accuracy': 0.8183908045977012, 'eval_runtime': 6.7522, 'eval_samples_per_second': 64.423, 'eval_steps_per_second': 1.037, 'epoch': 29.0}\n"
     ]
    },
    {
     "name": "stderr",
     "output_type": "stream",
     "text": [
      " 60%|██████    | 1500/2500 [1:15:28<14:48,  1.13it/s]  "
     ]
    },
    {
     "name": "stdout",
     "output_type": "stream",
     "text": [
      "{'loss': 0.0015, 'grad_norm': 0.0030470623169094324, 'learning_rate': 2e-05, 'epoch': 30.0}\n"
     ]
    },
    {
     "name": "stderr",
     "output_type": "stream",
     "text": [
      "                                                     \n",
      " 60%|██████    | 1500/2500 [1:15:35<14:48,  1.13it/s]"
     ]
    },
    {
     "name": "stdout",
     "output_type": "stream",
     "text": [
      "{'eval_loss': 1.5112735033035278, 'eval_accuracy': 0.8367816091954023, 'eval_runtime': 6.7475, 'eval_samples_per_second': 64.468, 'eval_steps_per_second': 1.037, 'epoch': 30.0}\n"
     ]
    },
    {
     "name": "stderr",
     "output_type": "stream",
     "text": [
      "                                                       \n",
      " 62%|██████▏   | 1550/2500 [1:16:36<13:16,  1.19it/s]"
     ]
    },
    {
     "name": "stdout",
     "output_type": "stream",
     "text": [
      "{'eval_loss': 1.5443379878997803, 'eval_accuracy': 0.8344827586206897, 'eval_runtime': 6.7612, 'eval_samples_per_second': 64.338, 'eval_steps_per_second': 1.035, 'epoch': 31.0}\n"
     ]
    },
    {
     "name": "stderr",
     "output_type": "stream",
     "text": [
      "                                                       \n",
      " 64%|██████▍   | 1600/2500 [1:17:37<11:16,  1.33it/s]"
     ]
    },
    {
     "name": "stdout",
     "output_type": "stream",
     "text": [
      "{'eval_loss': 1.5647070407867432, 'eval_accuracy': 0.8344827586206897, 'eval_runtime': 6.6993, 'eval_samples_per_second': 64.932, 'eval_steps_per_second': 1.045, 'epoch': 32.0}\n"
     ]
    },
    {
     "name": "stderr",
     "output_type": "stream",
     "text": [
      "                                                       \n",
      " 66%|██████▌   | 1650/2500 [1:18:49<17:03,  1.20s/it]"
     ]
    },
    {
     "name": "stdout",
     "output_type": "stream",
     "text": [
      "{'eval_loss': 1.5430601835250854, 'eval_accuracy': 0.832183908045977, 'eval_runtime': 9.4253, 'eval_samples_per_second': 46.152, 'eval_steps_per_second': 0.743, 'epoch': 33.0}\n"
     ]
    },
    {
     "name": "stderr",
     "output_type": "stream",
     "text": [
      "                                                       \n",
      " 68%|██████▊   | 1700/2500 [1:20:09<13:40,  1.03s/it]"
     ]
    },
    {
     "name": "stdout",
     "output_type": "stream",
     "text": [
      "{'eval_loss': 1.548667550086975, 'eval_accuracy': 0.8367816091954023, 'eval_runtime': 9.4407, 'eval_samples_per_second': 46.077, 'eval_steps_per_second': 0.741, 'epoch': 34.0}\n"
     ]
    },
    {
     "name": "stderr",
     "output_type": "stream",
     "text": [
      "                                                       \n",
      " 70%|███████   | 1750/2500 [1:21:25<12:40,  1.01s/it]"
     ]
    },
    {
     "name": "stdout",
     "output_type": "stream",
     "text": [
      "{'eval_loss': 1.5680257081985474, 'eval_accuracy': 0.8367816091954023, 'eval_runtime': 9.215, 'eval_samples_per_second': 47.206, 'eval_steps_per_second': 0.76, 'epoch': 35.0}\n"
     ]
    },
    {
     "name": "stderr",
     "output_type": "stream",
     "text": [
      "                                                       \n",
      " 72%|███████▏  | 1800/2500 [1:22:45<13:41,  1.17s/it]"
     ]
    },
    {
     "name": "stdout",
     "output_type": "stream",
     "text": [
      "{'eval_loss': 1.5756632089614868, 'eval_accuracy': 0.8367816091954023, 'eval_runtime': 9.8604, 'eval_samples_per_second': 44.116, 'eval_steps_per_second': 0.71, 'epoch': 36.0}\n"
     ]
    },
    {
     "name": "stderr",
     "output_type": "stream",
     "text": [
      "                                                       \n",
      " 74%|███████▍  | 1850/2500 [1:24:08<08:57,  1.21it/s]"
     ]
    },
    {
     "name": "stdout",
     "output_type": "stream",
     "text": [
      "{'eval_loss': 1.5831371545791626, 'eval_accuracy': 0.8367816091954023, 'eval_runtime': 6.8308, 'eval_samples_per_second': 63.682, 'eval_steps_per_second': 1.025, 'epoch': 37.0}\n"
     ]
    },
    {
     "name": "stderr",
     "output_type": "stream",
     "text": [
      "                                                       \n",
      " 76%|███████▌  | 1900/2500 [1:25:50<06:41,  1.49it/s]"
     ]
    },
    {
     "name": "stdout",
     "output_type": "stream",
     "text": [
      "{'eval_loss': 1.5885801315307617, 'eval_accuracy': 0.8367816091954023, 'eval_runtime': 6.5792, 'eval_samples_per_second': 66.117, 'eval_steps_per_second': 1.064, 'epoch': 38.0}\n"
     ]
    },
    {
     "name": "stderr",
     "output_type": "stream",
     "text": [
      "                                                     \n",
      " 78%|███████▊  | 1950/2500 [1:34:54<07:55,  1.16it/s]"
     ]
    },
    {
     "name": "stdout",
     "output_type": "stream",
     "text": [
      "{'eval_loss': 1.5934677124023438, 'eval_accuracy': 0.8367816091954023, 'eval_runtime': 478.0206, 'eval_samples_per_second': 0.91, 'eval_steps_per_second': 0.015, 'epoch': 39.0}\n"
     ]
    },
    {
     "name": "stderr",
     "output_type": "stream",
     "text": [
      " 80%|████████  | 2000/2500 [1:35:45<07:17,  1.14it/s]    "
     ]
    },
    {
     "name": "stdout",
     "output_type": "stream",
     "text": [
      "{'loss': 0.0001, 'grad_norm': 0.006253579631447792, 'learning_rate': 1e-05, 'epoch': 40.0}\n"
     ]
    },
    {
     "name": "stderr",
     "output_type": "stream",
     "text": [
      "                                                     \n",
      " 80%|████████  | 2000/2500 [1:36:01<07:17,  1.14it/s]"
     ]
    },
    {
     "name": "stdout",
     "output_type": "stream",
     "text": [
      "{'eval_loss': 1.6188511848449707, 'eval_accuracy': 0.8298850574712644, 'eval_runtime': 16.1358, 'eval_samples_per_second': 26.959, 'eval_steps_per_second': 0.434, 'epoch': 40.0}\n"
     ]
    },
    {
     "name": "stderr",
     "output_type": "stream",
     "text": [
      "                                                         \n",
      " 82%|████████▏ | 2050/2500 [1:52:23<20:06,  2.68s/it]"
     ]
    },
    {
     "name": "stdout",
     "output_type": "stream",
     "text": [
      "{'eval_loss': 1.764634132385254, 'eval_accuracy': 0.8022988505747126, 'eval_runtime': 6.8294, 'eval_samples_per_second': 63.695, 'eval_steps_per_second': 1.025, 'epoch': 41.0}\n"
     ]
    },
    {
     "name": "stderr",
     "output_type": "stream",
     "text": [
      "                                                     \n",
      " 84%|████████▍ | 2100/2500 [1:53:36<06:29,  1.03it/s]"
     ]
    },
    {
     "name": "stdout",
     "output_type": "stream",
     "text": [
      "{'eval_loss': 1.6687979698181152, 'eval_accuracy': 0.8229885057471265, 'eval_runtime': 6.7888, 'eval_samples_per_second': 64.076, 'eval_steps_per_second': 1.031, 'epoch': 42.0}\n"
     ]
    },
    {
     "name": "stderr",
     "output_type": "stream",
     "text": [
      "                                                     \n",
      " 86%|████████▌ | 2150/2500 [1:54:36<04:04,  1.43it/s]"
     ]
    },
    {
     "name": "stdout",
     "output_type": "stream",
     "text": [
      "{'eval_loss': 1.5881229639053345, 'eval_accuracy': 0.8298850574712644, 'eval_runtime': 6.6529, 'eval_samples_per_second': 65.385, 'eval_steps_per_second': 1.052, 'epoch': 43.0}\n"
     ]
    },
    {
     "name": "stderr",
     "output_type": "stream",
     "text": [
      "                                                     \n",
      " 88%|████████▊ | 2200/2500 [1:55:34<03:23,  1.47it/s]"
     ]
    },
    {
     "name": "stdout",
     "output_type": "stream",
     "text": [
      "{'eval_loss': 1.596108317375183, 'eval_accuracy': 0.8275862068965517, 'eval_runtime': 6.5748, 'eval_samples_per_second': 66.162, 'eval_steps_per_second': 1.065, 'epoch': 44.0}\n"
     ]
    },
    {
     "name": "stderr",
     "output_type": "stream",
     "text": [
      "                                                       \n",
      " 90%|█████████ | 2250/2500 [1:58:19<04:11,  1.01s/it]"
     ]
    },
    {
     "name": "stdout",
     "output_type": "stream",
     "text": [
      "{'eval_loss': 1.6653656959533691, 'eval_accuracy': 0.825287356321839, 'eval_runtime': 6.826, 'eval_samples_per_second': 63.727, 'eval_steps_per_second': 1.025, 'epoch': 45.0}\n"
     ]
    },
    {
     "name": "stderr",
     "output_type": "stream",
     "text": [
      "                                                     \n",
      " 92%|█████████▏| 2300/2500 [1:59:21<02:41,  1.24it/s]"
     ]
    },
    {
     "name": "stdout",
     "output_type": "stream",
     "text": [
      "{'eval_loss': 1.6683651208877563, 'eval_accuracy': 0.825287356321839, 'eval_runtime': 6.752, 'eval_samples_per_second': 64.426, 'eval_steps_per_second': 1.037, 'epoch': 46.0}\n"
     ]
    },
    {
     "name": "stderr",
     "output_type": "stream",
     "text": [
      "                                                     \n",
      " 94%|█████████▍| 2350/2500 [2:00:21<02:06,  1.19it/s]"
     ]
    },
    {
     "name": "stdout",
     "output_type": "stream",
     "text": [
      "{'eval_loss': 1.6693649291992188, 'eval_accuracy': 0.825287356321839, 'eval_runtime': 6.8643, 'eval_samples_per_second': 63.371, 'eval_steps_per_second': 1.02, 'epoch': 47.0}\n"
     ]
    },
    {
     "name": "stderr",
     "output_type": "stream",
     "text": [
      "                                                     \n",
      " 96%|█████████▌| 2400/2500 [2:01:30<01:39,  1.00it/s]"
     ]
    },
    {
     "name": "stdout",
     "output_type": "stream",
     "text": [
      "{'eval_loss': 1.6700961589813232, 'eval_accuracy': 0.8275862068965517, 'eval_runtime': 8.7748, 'eval_samples_per_second': 49.574, 'eval_steps_per_second': 0.798, 'epoch': 48.0}\n"
     ]
    },
    {
     "name": "stderr",
     "output_type": "stream",
     "text": [
      "                                                     \n",
      " 98%|█████████▊| 2450/2500 [2:02:44<00:46,  1.07it/s]"
     ]
    },
    {
     "name": "stdout",
     "output_type": "stream",
     "text": [
      "{'eval_loss': 1.670533537864685, 'eval_accuracy': 0.8275862068965517, 'eval_runtime': 8.4502, 'eval_samples_per_second': 51.478, 'eval_steps_per_second': 0.828, 'epoch': 49.0}\n"
     ]
    },
    {
     "name": "stderr",
     "output_type": "stream",
     "text": [
      "100%|██████████| 2500/2500 [2:03:49<00:00,  1.03it/s]"
     ]
    },
    {
     "name": "stdout",
     "output_type": "stream",
     "text": [
      "{'loss': 0.0009, 'grad_norm': 0.0011122291907668114, 'learning_rate': 0.0, 'epoch': 50.0}\n"
     ]
    },
    {
     "name": "stderr",
     "output_type": "stream",
     "text": [
      "                                                     \n",
      "100%|██████████| 2500/2500 [2:04:02<00:00,  1.03it/s]"
     ]
    },
    {
     "name": "stdout",
     "output_type": "stream",
     "text": [
      "{'eval_loss': 1.670653223991394, 'eval_accuracy': 0.8275862068965517, 'eval_runtime': 8.4914, 'eval_samples_per_second': 51.229, 'eval_steps_per_second': 0.824, 'epoch': 50.0}\n"
     ]
    },
    {
     "name": "stderr",
     "output_type": "stream",
     "text": [
      "100%|██████████| 2500/2500 [2:04:09<00:00,  1.03it/s]"
     ]
    },
    {
     "name": "stdout",
     "output_type": "stream",
     "text": [
      "{'train_runtime': 7449.0687, 'train_samples_per_second': 5.269, 'train_steps_per_second': 0.336, 'train_loss': 0.05342383605092764, 'epoch': 50.0}\n"
     ]
    },
    {
     "name": "stderr",
     "output_type": "stream",
     "text": [
      "100%|██████████| 2500/2500 [2:04:10<00:00,  2.98s/it]\n"
     ]
    }
   ],
   "source": [
    "intent_classifier.train()"
   ]
  },
  {
   "cell_type": "markdown",
   "metadata": {},
   "source": [
    "# Load To Hub\n",
    "This section demonstrates how to save the fine-tuned model to the Hugging Face Hub. This allows for easy sharing and deployment of the model. The `push_to_hub` method is used to upload the model."
   ]
  },
  {
   "cell_type": "code",
   "execution_count": 7,
   "metadata": {},
   "outputs": [
    {
     "name": "stderr",
     "output_type": "stream",
     "text": [
      "model.safetensors: 100%|██████████| 499M/499M [00:24<00:00, 20.5MB/s] \n",
      "2025-01-19 18:59:47,423 - __name__ - INFO - Model saved to Hugging Face Hub as stevenloaiza/dorie-intent-classifier\n"
     ]
    }
   ],
   "source": [
    "# Save Model\n",
    "intent_classifier.push_to_hub(model_name='stevenloaiza/dorie-intent-classifier')"
   ]
  }
 ],
 "metadata": {
  "kernelspec": {
   "display_name": "dorie_env_ipynb",
   "language": "python",
   "name": "myenv"
  },
  "language_info": {
   "codemirror_mode": {
    "name": "ipython",
    "version": 3
   },
   "file_extension": ".py",
   "mimetype": "text/x-python",
   "name": "python",
   "nbconvert_exporter": "python",
   "pygments_lexer": "ipython3",
   "version": "3.10.10"
  }
 },
 "nbformat": 4,
 "nbformat_minor": 2
}
